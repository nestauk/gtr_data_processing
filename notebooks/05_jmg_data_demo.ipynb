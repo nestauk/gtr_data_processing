{
 "cells": [
  {
   "cell_type": "markdown",
   "metadata": {},
   "source": [
    "## GtR data showcase\n",
    "\n",
    "This repo summarises the content of two GtR related datasets that we are using in the project to map innovation in Scotland"
   ]
  },
  {
   "cell_type": "markdown",
   "metadata": {},
   "source": [
    "## Preamble"
   ]
  },
  {
   "cell_type": "code",
   "execution_count": null,
   "metadata": {},
   "outputs": [],
   "source": [
    "% run notebook_preamble.ipy"
   ]
  },
  {
   "cell_type": "code",
   "execution_count": null,
   "metadata": {},
   "outputs": [],
   "source": [
    "from ast import literal_eval"
   ]
  },
  {
   "cell_type": "code",
   "execution_count": null,
   "metadata": {},
   "outputs": [],
   "source": [
    "def parse_gtr_data(df,vars_to_parse):\n",
    "    '''\n",
    "    \n",
    "    This function parses strings into lists\n",
    "    \n",
    "    Args:\n",
    "        df is the df whose columns we want to parsr\n",
    "        vars_to_parse is a list with the variables to parse\n",
    "    \n",
    "    '''\n",
    "    \n",
    "    #If the column is in the list above, then parse it\n",
    "    for c in df.columns:\n",
    "    \n",
    "        if c in vars_to_parse:\n",
    "            df[c] = [literal_eval(x) for x in df[c]]\n",
    "\n",
    "    return(df)"
   ]
  },
  {
   "cell_type": "markdown",
   "metadata": {},
   "source": [
    "## Load datasets"
   ]
  },
  {
   "cell_type": "markdown",
   "metadata": {},
   "source": [
    "### `proj`"
   ]
  },
  {
   "cell_type": "code",
   "execution_count": null,
   "metadata": {},
   "outputs": [],
   "source": [
    "proj = pd.read_csv('../data/temp_scotland/5_9_2019_gtr_projects_geo_labelled.csv',compression='zip')\n",
    "\n",
    "#Remove the unnamed columns\n",
    "proj = proj[[x for x in proj.columns if 'Unnamed' not in x]]"
   ]
  },
  {
   "cell_type": "code",
   "execution_count": null,
   "metadata": {},
   "outputs": [],
   "source": [
    "#We want to parse the lists in the data\n",
    "\n",
    "list_var = [x for x in proj.columns if '_lad_' in x]\n",
    "\n",
    "proj = parse_gtr_data(proj,list_var)"
   ]
  },
  {
   "cell_type": "markdown",
   "metadata": {},
   "source": [
    "#### Content"
   ]
  },
  {
   "cell_type": "code",
   "execution_count": null,
   "metadata": {},
   "outputs": [],
   "source": [
    "proj.shape"
   ]
  },
  {
   "cell_type": "code",
   "execution_count": null,
   "metadata": {},
   "outputs": [],
   "source": [
    "len(set(proj['project_id']))"
   ]
  },
  {
   "cell_type": "code",
   "execution_count": null,
   "metadata": {},
   "outputs": [],
   "source": [
    "proj['grant_category'].value_counts(normalize=True).head()"
   ]
  },
  {
   "cell_type": "code",
   "execution_count": null,
   "metadata": {},
   "outputs": [],
   "source": [
    "proj['funder'].value_counts(normalize=True)"
   ]
  },
  {
   "cell_type": "code",
   "execution_count": null,
   "metadata": {},
   "outputs": [],
   "source": [
    "proj['abstract'].value_counts().head(n=7)"
   ]
  },
  {
   "cell_type": "code",
   "execution_count": null,
   "metadata": {},
   "outputs": [],
   "source": [
    "pd.Series([len(x) for x in proj['abstract']]).describe()"
   ]
  },
  {
   "cell_type": "markdown",
   "metadata": {},
   "source": [
    "The dataset contains information about UKRI funded projects involving all research councils *and* Innovate UK\n",
    "\n",
    "It includes all types of grants although the majority are Research Grants\n",
    "\n",
    "All projects include abstracts although there is a small number with very short ones.\n",
    "\n",
    "During modelling we removed some uninformative / garbagey abstracts but as cell 16 above shows a small number of them remain. We remove all abstracts with less than 300 words.\n"
   ]
  },
  {
   "cell_type": "code",
   "execution_count": null,
   "metadata": {},
   "outputs": [],
   "source": [
    "rep_text = 'The recent discovery of the Higgs boson at the LHC was a major technical and scientific triumph, but it is not the end of the story. There are still many'"
   ]
  },
  {
   "cell_type": "code",
   "execution_count": null,
   "metadata": {},
   "outputs": [],
   "source": [
    "proj.loc[[rep_text in abst for abst in proj['abstract']]][['project_id','title','abstract','year','amount','grant_category','funder','all_lad_name']]"
   ]
  },
  {
   "cell_type": "markdown",
   "metadata": {},
   "source": [
    "Note that there are some duplicate abstracts - they refer to long term programmes of work with multiple projects."
   ]
  },
  {
   "cell_type": "code",
   "execution_count": null,
   "metadata": {},
   "outputs": [],
   "source": [
    "#Drop ridiculously short abstracts?\n",
    "\n",
    "proj['short_abstract'] = [len(x)<300 for x in proj['abstract']]\n",
    "\n",
    "pd.crosstab(proj['grant_category'],proj['short_abstract'],normalize=0)[True].sort_values(ascending=False).plot.bar()"
   ]
  },
  {
   "cell_type": "code",
   "execution_count": null,
   "metadata": {},
   "outputs": [],
   "source": [
    "pd.crosstab(proj['funder'],proj['short_abstract'],normalize=0)[True].sort_values(ascending=False).plot.bar()"
   ]
  },
  {
   "cell_type": "markdown",
   "metadata": {},
   "source": [
    "They are mostly less-academic Knowledge Transfer Partnership (projects where a university researcher is embedded in industry) and SME projects"
   ]
  },
  {
   "cell_type": "code",
   "execution_count": null,
   "metadata": {},
   "outputs": [],
   "source": [
    "proj_2 = proj.loc[[len(x)>300 for x in proj['abstract']]].reset_index(drop=False)"
   ]
  },
  {
   "cell_type": "code",
   "execution_count": null,
   "metadata": {},
   "outputs": [],
   "source": [
    "len(proj)-len(proj_2)"
   ]
  },
  {
   "cell_type": "markdown",
   "metadata": {},
   "source": [
    "We lose ~5000 abstracts"
   ]
  },
  {
   "cell_type": "markdown",
   "metadata": {},
   "source": [
    "#### Time"
   ]
  },
  {
   "cell_type": "code",
   "execution_count": null,
   "metadata": {},
   "outputs": [],
   "source": [
    "proj_2['year'].value_counts()[np.arange(min(proj_2['year']),max(proj_2['year']))].fillna(0).plot()"
   ]
  },
  {
   "cell_type": "markdown",
   "metadata": {},
   "source": [
    "Most activity begins in 2006 so we remove projects before. We also remove projects in non-full years (eg 2019 or 2020)\n",
    "\n"
   ]
  },
  {
   "cell_type": "code",
   "execution_count": null,
   "metadata": {},
   "outputs": [],
   "source": [
    "proj_3 = proj_2.loc[(proj_2['year']>=2006)&(proj_2['year']<2019)]\n",
    "\n",
    "len(proj_2)-len(proj_3)"
   ]
  },
  {
   "cell_type": "markdown",
   "metadata": {},
   "source": [
    "We lose 1280 projects"
   ]
  },
  {
   "cell_type": "markdown",
   "metadata": {},
   "source": [
    "#### Geo\n",
    "\n",
    "All our geo information here is contained in lists of LADs participating in projects"
   ]
  },
  {
   "cell_type": "code",
   "execution_count": null,
   "metadata": {},
   "outputs": [],
   "source": [
    "def flatten_freq(a_list):\n",
    "    '''\n",
    "    Create frequency of observations in a nested list\n",
    "    \n",
    "    '''\n",
    "    \n",
    "    return(pd.Series([x for el in a_list for x in el]).value_counts())"
   ]
  },
  {
   "cell_type": "code",
   "execution_count": null,
   "metadata": {},
   "outputs": [],
   "source": [
    "flatten_freq(proj_3['lead_lad_name']).head(n=10)"
   ]
  },
  {
   "cell_type": "code",
   "execution_count": null,
   "metadata": {},
   "outputs": [],
   "source": [
    "flatten_freq(proj_3['all_lad_name']).head(n=10)"
   ]
  },
  {
   "cell_type": "markdown",
   "metadata": {},
   "source": [
    "As the above shows we have variables about organisations leading projects, and organisations participating in projects"
   ]
  },
  {
   "cell_type": "markdown",
   "metadata": {},
   "source": [
    "#### Disciplines\n",
    "\n",
    "We have labelled projects with their discipline probabilities.\n",
    "\n",
    "The steps to do this, presented elsewhere in this repo (`02_jmg`) are:\n",
    "\n",
    "* Projects are tagged with keywords\n",
    "* Detect communities of tags ('disciplines')\n",
    "* Find pure discipline projects (all tags in one discipline)\n",
    "* Train a one v rest model on that discipline (w/ Grid search)\n",
    "* Predict labels for all data\n",
    "\n"
   ]
  },
  {
   "cell_type": "code",
   "execution_count": null,
   "metadata": {},
   "outputs": [],
   "source": [
    "disc_names = [x for x in proj_3.columns if 'disc_' in x]\n",
    "\n",
    "proj_3[disc_names].head()"
   ]
  },
  {
   "cell_type": "code",
   "execution_count": null,
   "metadata": {},
   "outputs": [],
   "source": [
    "proj_3['disc_top'].value_counts()"
   ]
  },
  {
   "cell_type": "code",
   "execution_count": null,
   "metadata": {},
   "outputs": [],
   "source": [
    "ax = pd.crosstab(proj_3['year'],proj_3['disc_top']).rolling(window=3).mean().dropna().plot()\n",
    "\n",
    "ax.legend(bbox_to_anchor=(1,1))"
   ]
  },
  {
   "cell_type": "code",
   "execution_count": null,
   "metadata": {},
   "outputs": [],
   "source": [
    "ax = pd.crosstab(proj_3['funder'],proj_3['disc_top'],normalize=0).plot.bar(stacked=True)\n",
    "\n",
    "ax.legend(bbox_to_anchor=(1,1))"
   ]
  },
  {
   "cell_type": "markdown",
   "metadata": {},
   "source": [
    "The funder - discipline link is as wwe would expect "
   ]
  },
  {
   "cell_type": "markdown",
   "metadata": {},
   "source": [
    "#### Other observations\n",
    "\n",
    "The project data also includes information about our predictive analysis of industry and SDG labels but we think of these as placeholders that are currently being tuned"
   ]
  },
  {
   "cell_type": "code",
   "execution_count": null,
   "metadata": {},
   "outputs": [],
   "source": [
    "proj_3.to_csv(f'../data/processed/data_getters_lab/{today_str}_gtr_projects.csv')"
   ]
  },
  {
   "cell_type": "markdown",
   "metadata": {},
   "source": [
    "## `org`\n",
    "\n",
    "This contains organisation level information for all organisations in the GTR data"
   ]
  },
  {
   "cell_type": "code",
   "execution_count": null,
   "metadata": {},
   "outputs": [],
   "source": [
    "org = pd.read_csv('../data/processed/17_9_2019_organisation_activities.csv',compression='zip')"
   ]
  },
  {
   "cell_type": "code",
   "execution_count": null,
   "metadata": {},
   "outputs": [],
   "source": [
    "org.head()"
   ]
  },
  {
   "cell_type": "code",
   "execution_count": null,
   "metadata": {},
   "outputs": [],
   "source": [
    "org.shape"
   ]
  },
  {
   "cell_type": "code",
   "execution_count": null,
   "metadata": {},
   "outputs": [],
   "source": [
    "org.columns"
   ]
  },
  {
   "cell_type": "markdown",
   "metadata": {},
   "source": [
    "For each organisation, it includes:\n",
    "\n",
    "* ID, name, location\n",
    "* List of project ids and roles\n",
    "* Number of projects it has worked in and number of projects it has led\n",
    "* Level of funding\n",
    "* Number of projects in different disciplines\n",
    "* Types of grants it received\n",
    "* Outputs in its projects\n",
    "* Propensity to collaborate locally"
   ]
  },
  {
   "cell_type": "markdown",
   "metadata": {},
   "source": [
    "### Top organisations"
   ]
  },
  {
   "cell_type": "markdown",
   "metadata": {},
   "source": [
    "By funding"
   ]
  },
  {
   "cell_type": "code",
   "execution_count": null,
   "metadata": {},
   "outputs": [],
   "source": [
    "org.sort_values('led_funding',ascending=False)[['name','led_funding']].head(n=10)"
   ]
  },
  {
   "cell_type": "markdown",
   "metadata": {},
   "source": [
    "By led projects"
   ]
  },
  {
   "cell_type": "code",
   "execution_count": null,
   "metadata": {},
   "outputs": [],
   "source": [
    "org.sort_values('lead_project_n',ascending=False)[['name','led_funding']].head(n=10)"
   ]
  },
  {
   "cell_type": "markdown",
   "metadata": {},
   "source": [
    "By local collaborations"
   ]
  },
  {
   "cell_type": "code",
   "execution_count": null,
   "metadata": {},
   "outputs": [],
   "source": [
    "org.sort_values('local_collab',ascending=False)[['name','local_collab']].head(n=10)"
   ]
  },
  {
   "cell_type": "markdown",
   "metadata": {},
   "source": [
    "### Top places by discipline\n",
    "\n",
    "Here there will be double counting"
   ]
  },
  {
   "cell_type": "code",
   "execution_count": null,
   "metadata": {},
   "outputs": [],
   "source": [
    "org.groupby('lad')[disc_names[:-1]].sum().sort_values('disc_eng_tech',ascending=False).head()"
   ]
  },
  {
   "cell_type": "markdown",
   "metadata": {},
   "source": [
    "### Top places by output"
   ]
  },
  {
   "cell_type": "code",
   "execution_count": null,
   "metadata": {},
   "outputs": [],
   "source": [
    "output_names = [x for x in org.columns if 'out_' in x]"
   ]
  },
  {
   "cell_type": "code",
   "execution_count": null,
   "metadata": {},
   "outputs": [],
   "source": [
    "org.groupby('lad')[output_names].sum().sort_values('out_spin',ascending=False).head(n=10)"
   ]
  },
  {
   "cell_type": "markdown",
   "metadata": {},
   "source": [
    "Check Scotland!"
   ]
  },
  {
   "cell_type": "markdown",
   "metadata": {},
   "source": [
    "### Save"
   ]
  },
  {
   "cell_type": "code",
   "execution_count": null,
   "metadata": {},
   "outputs": [],
   "source": [
    "org.to_csv(f'../data/processed/data_getters_lab/{today_str}_gtr_orgs.csv')"
   ]
  },
  {
   "cell_type": "code",
   "execution_count": null,
   "metadata": {},
   "outputs": [],
   "source": []
  }
 ],
 "metadata": {
  "language_info": {
   "name": "python",
   "pygments_lexer": "ipython3"
  }
 },
 "nbformat": 4,
 "nbformat_minor": 2
}
