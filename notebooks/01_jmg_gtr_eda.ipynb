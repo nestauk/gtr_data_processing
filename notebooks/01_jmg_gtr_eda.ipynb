{
 "cells": [
  {
   "cell_type": "markdown",
   "metadata": {},
   "source": [
    "# Gateway to Research data processing\n",
    "\n",
    "This notebook documents some exploratory processing of the Gateway to Research dataset with information about research-council and Innovate UK funded projects in the UK. \n",
    "\n",
    "In it, we load the project data and enrich it with information about its funding, topics and outputs.\n",
    "\n",
    "The output is an interim dataset for further enrichment for example with industries, disciplines etc."
   ]
  },
  {
   "cell_type": "markdown",
   "metadata": {},
   "source": [
    "### 0. Preamble"
   ]
  },
  {
   "cell_type": "markdown",
   "metadata": {},
   "source": [
    "#### Imports"
   ]
  },
  {
   "cell_type": "code",
   "execution_count": null,
   "metadata": {},
   "outputs": [],
   "source": [
    "%matplotlib inline\n",
    "import matplotlib.pyplot as plt"
   ]
  },
  {
   "cell_type": "code",
   "execution_count": null,
   "metadata": {},
   "outputs": [],
   "source": [
    "# Functions\n",
    "\n",
    "def missing_count(df,ax):\n",
    "    '''\n",
    "    Creates a barchart with share of missing values by variable in the data\n",
    "    \n",
    "    '''\n",
    "    \n",
    "    df.apply(lambda x: pd.isnull(x),axis=1).mean().sort_values(ascending=False).plot.bar(ax=ax,color='blue')\n",
    "    \n",
    "def get_year(date):\n",
    "    '''\n",
    "    Extracts years from GTR data. These are strings so we just get the first number\n",
    "    '''\n",
    "    \n",
    "    if pd.isnull(date)==False:\n",
    "        y = date.split('-')[0]\n",
    "        return(int(y))\n",
    "    \n",
    "    else:\n",
    "        return(np.nan)\n",
    "\n"
   ]
  },
  {
   "cell_type": "markdown",
   "metadata": {},
   "source": [
    "### 1. Load GtR data"
   ]
  },
  {
   "cell_type": "markdown",
   "metadata": {},
   "source": [
    "Load the data"
   ]
  },
  {
   "cell_type": "code",
   "execution_count": null,
   "metadata": {},
   "outputs": [],
   "source": [
    "my_tables = ['_projects','_organisations','_products','_intellectualproperties','_publications',\n",
    "             'technicalproducts','_researchdatabaseandmodels',\n",
    "             '_spinouts','_link_table']"
   ]
  },
  {
   "cell_type": "markdown",
   "metadata": {},
   "source": [
    "Automatically identify the latest version of the data"
   ]
  },
  {
   "cell_type": "code",
   "execution_count": null,
   "metadata": {},
   "outputs": [],
   "source": [
    "#This gets the maximum date in the gtr directory\n",
    "latest_data = sorted(\n",
    "    [(x,datetime.datetime.strptime(x,'%Y-%m-%d')) for x in os.listdir('../data/raw/gtr') if x!='gtr_projects.csv'],key=lambda x:x[1])[-1][0]"
   ]
  },
  {
   "cell_type": "code",
   "execution_count": null,
   "metadata": {},
   "outputs": [],
   "source": [
    "gtr_path= f'../data/raw/gtr/{latest_data}/'\n",
    "\n",
    "\n",
    "all_tables = os.listdir(gtr_path)"
   ]
  },
  {
   "cell_type": "code",
   "execution_count": null,
   "metadata": {},
   "outputs": [],
   "source": [
    "#A dict where every item is a df with the key = table name. We do a bit of string manipulation to remove dates etc.\n",
    "my_data = {file.split('_')[-1][:-4]:pd.read_csv(gtr_path+file).iloc[:,1:] for file in all_tables if any(x in file for x in my_tables)}"
   ]
  },
  {
   "cell_type": "code",
   "execution_count": null,
   "metadata": {},
   "outputs": [],
   "source": [
    "my_data.keys()"
   ]
  },
  {
   "cell_type": "markdown",
   "metadata": {},
   "source": [
    "Load the linking file here because we will use it throughout"
   ]
  },
  {
   "cell_type": "code",
   "execution_count": null,
   "metadata": {},
   "outputs": [],
   "source": [
    "link = my_data['table']\n",
    "\n",
    "link.head()"
   ]
  },
  {
   "cell_type": "markdown",
   "metadata": {},
   "source": [
    "### Projects"
   ]
  },
  {
   "cell_type": "code",
   "execution_count": null,
   "metadata": {},
   "outputs": [],
   "source": [
    "projects = my_data['projects']\n",
    "\n",
    "projects.head()"
   ]
  },
  {
   "cell_type": "code",
   "execution_count": null,
   "metadata": {},
   "outputs": [],
   "source": [
    "projects.shape\n",
    "\n",
    "len(set(projects['id']))"
   ]
  },
  {
   "cell_type": "markdown",
   "metadata": {},
   "source": [
    "Some rapid observations:\n",
    "\n",
    "* what does start mean?\n",
    "* What does created mean?\n",
    "* abstractText seems to be the main textual description"
   ]
  },
  {
   "cell_type": "code",
   "execution_count": null,
   "metadata": {},
   "outputs": [],
   "source": [
    "fig,ax = plt.subplots()\n",
    "\n",
    "missing_count(projects,ax)\n",
    "\n",
    "ax.set_title('Missing values in Project GTR data')"
   ]
  },
  {
   "cell_type": "code",
   "execution_count": null,
   "metadata": {},
   "outputs": [],
   "source": [
    "projects['year_created'] = projects['created'].apply(lambda x: get_year(x))\n",
    "\n",
    "projects['year_created'].value_counts()"
   ]
  },
  {
   "cell_type": "markdown",
   "metadata": {},
   "source": [
    "Created is a data collection variable"
   ]
  },
  {
   "cell_type": "code",
   "execution_count": null,
   "metadata": {},
   "outputs": [],
   "source": [
    "projects['year_started'] = projects['start'].apply(lambda x: get_year(x))\n",
    "\n",
    "projects['year_started'].value_counts().loc[np.arange(2006,2020)].plot.bar(color='blue',title='Started year')"
   ]
  },
  {
   "cell_type": "markdown",
   "metadata": {},
   "source": [
    "Not sure about what `year_stared` means but it doesn't cover many records"
   ]
  },
  {
   "cell_type": "code",
   "execution_count": null,
   "metadata": {},
   "outputs": [],
   "source": [
    "projects['leadFunder'].value_counts().plot.bar(color='blue',title='funder_distribution')"
   ]
  },
  {
   "cell_type": "markdown",
   "metadata": {},
   "source": [
    "EPSRC and Innovate UK are the most active organisations in the data"
   ]
  },
  {
   "cell_type": "code",
   "execution_count": null,
   "metadata": {},
   "outputs": [],
   "source": [
    "projects['grantCategory'].value_counts(normalize=True)[:10].plot.bar(color='blue',title='project types')"
   ]
  },
  {
   "cell_type": "markdown",
   "metadata": {},
   "source": [
    "Research grants are the main category with almost half of the observations"
   ]
  },
  {
   "cell_type": "markdown",
   "metadata": {},
   "source": [
    "##### Does the fund data contain the actual start and end date for the project?"
   ]
  },
  {
   "cell_type": "code",
   "execution_count": null,
   "metadata": {},
   "outputs": [],
   "source": [
    "fund = pd.read_csv(gtr_path+'/gtr_funds.csv').iloc[:,1:]"
   ]
  },
  {
   "cell_type": "code",
   "execution_count": null,
   "metadata": {},
   "outputs": [],
   "source": [
    "fund.shape"
   ]
  },
  {
   "cell_type": "code",
   "execution_count": null,
   "metadata": {},
   "outputs": [],
   "source": [
    "fund.sort_values('amount')"
   ]
  },
  {
   "cell_type": "markdown",
   "metadata": {},
   "source": [
    "Why are there many more funds than projects?"
   ]
  },
  {
   "cell_type": "code",
   "execution_count": null,
   "metadata": {},
   "outputs": [],
   "source": [
    "fund['year'] = fund['start'].apply(lambda x: get_year(x))\n",
    "\n",
    "fund['year'].value_counts().loc[np.arange(2000,2020)].plot.bar(color='blue',title='Start date (funded data)')"
   ]
  },
  {
   "cell_type": "markdown",
   "metadata": {},
   "source": [
    "The dataset begins in 2016. What is the bump in 2017?"
   ]
  },
  {
   "cell_type": "code",
   "execution_count": null,
   "metadata": {},
   "outputs": [],
   "source": [
    "pd.crosstab(fund['category'],fund['year'])[np.arange(2006,2020)].T.plot.bar(stacked=True,title='funding by category')"
   ]
  },
  {
   "cell_type": "markdown",
   "metadata": {},
   "source": [
    "Most of the funding levels in the data reflect income"
   ]
  },
  {
   "cell_type": "markdown",
   "metadata": {},
   "source": [
    "#### Merge funding with projects to get dates and funding by project\n",
    "\n",
    "`projects_f = projects merged w/ funding`"
   ]
  },
  {
   "cell_type": "code",
   "execution_count": null,
   "metadata": {},
   "outputs": [],
   "source": [
    "#Merge everything. It works\n",
    "\n",
    "projects_f = pd.merge(\n",
    "    pd.merge(fund,link,left_on='id',right_on='id'),\n",
    "    projects,\n",
    "    left_on='project_id',right_on='id')"
   ]
  },
  {
   "cell_type": "markdown",
   "metadata": {},
   "source": [
    "Lots of guff there. I should tidy it up later"
   ]
  },
  {
   "cell_type": "code",
   "execution_count": null,
   "metadata": {},
   "outputs": [],
   "source": [
    "#Why has the number of projects increased so much?\n",
    "len(projects_f)"
   ]
  },
  {
   "cell_type": "code",
   "execution_count": null,
   "metadata": {},
   "outputs": [],
   "source": [
    "#Drop duplicated project_ids - for some reason we have duplicate entries with different ids in the gtr_funds table\n",
    "\n",
    "projects_f_no_dupes = projects_f.drop_duplicates('project_id')"
   ]
  },
  {
   "cell_type": "markdown",
   "metadata": {},
   "source": [
    "#### Let's also check the Topics: does this refer to project keywords?"
   ]
  },
  {
   "cell_type": "code",
   "execution_count": null,
   "metadata": {},
   "outputs": [],
   "source": [
    "topics = pd.read_csv(gtr_path+'/gtr_topic.csv').iloc[:,1:]\n",
    "\n",
    "topics.head()"
   ]
  },
  {
   "cell_type": "code",
   "execution_count": null,
   "metadata": {},
   "outputs": [],
   "source": [
    "topics['topic_type'].value_counts()"
   ]
  },
  {
   "cell_type": "markdown",
   "metadata": {},
   "source": [
    "Yes. What are their keys in the linked_table?"
   ]
  },
  {
   "cell_type": "code",
   "execution_count": null,
   "metadata": {},
   "outputs": [],
   "source": [
    "link['table_name'].value_counts()"
   ]
  },
  {
   "cell_type": "markdown",
   "metadata": {},
   "source": [
    "We can loop over the projects and allocate them topics"
   ]
  },
  {
   "cell_type": "markdown",
   "metadata": {},
   "source": [
    "Create a research activity lookup and a research topic lookup."
   ]
  },
  {
   "cell_type": "code",
   "execution_count": null,
   "metadata": {},
   "outputs": [],
   "source": [
    "res_activity_lookup,res_topic_lookup = [{this_id:text for this_id,text in zip(topics.loc[topics['topic_type']==topic_type,'id'],\n",
    "                                                                             topics.loc[topics['topic_type']==topic_type,'text'])} for\n",
    "                                        topic_type in ['researchActivity','researchTopic']]\n",
    "                                                                              "
   ]
  },
  {
   "cell_type": "code",
   "execution_count": null,
   "metadata": {},
   "outputs": [],
   "source": [
    "list(res_activity_lookup.values())[:10]"
   ]
  },
  {
   "cell_type": "markdown",
   "metadata": {},
   "source": [
    "`researchActivity` is a medical set of subjects"
   ]
  },
  {
   "cell_type": "code",
   "execution_count": null,
   "metadata": {},
   "outputs": [],
   "source": [
    "list(res_topic_lookup.values())[:10]"
   ]
  },
  {
   "cell_type": "markdown",
   "metadata": {},
   "source": [
    "`researchTopics` is generic"
   ]
  },
  {
   "cell_type": "markdown",
   "metadata": {},
   "source": [
    "### Organisations\n"
   ]
  },
  {
   "cell_type": "code",
   "execution_count": null,
   "metadata": {},
   "outputs": [],
   "source": [
    "orgs = my_data['organisations']\n",
    "\n",
    "orgs.head()"
   ]
  },
  {
   "cell_type": "code",
   "execution_count": null,
   "metadata": {},
   "outputs": [],
   "source": [
    "orgs.shape"
   ]
  },
  {
   "cell_type": "markdown",
   "metadata": {},
   "source": [
    "This will be interesting to look at collaboration networks between organisations.\n",
    "\n",
    "Note that this is likely to over-estimate collaboration given that departments (which might be disconnected) will be subsumed under organisations. Maybe we could use the persons data to unpick that?"
   ]
  },
  {
   "cell_type": "markdown",
   "metadata": {},
   "source": [
    "### Outputs\n",
    "\n",
    "Brief exploration of the data and standardisation with a single schema (for merging with projects)"
   ]
  },
  {
   "cell_type": "markdown",
   "metadata": {},
   "source": [
    "#### Products"
   ]
  },
  {
   "cell_type": "code",
   "execution_count": null,
   "metadata": {},
   "outputs": [],
   "source": [
    "products = my_data['products']"
   ]
  },
  {
   "cell_type": "code",
   "execution_count": null,
   "metadata": {},
   "outputs": [],
   "source": [
    "products.head()"
   ]
  },
  {
   "cell_type": "code",
   "execution_count": null,
   "metadata": {},
   "outputs": [],
   "source": [
    "products.shape"
   ]
  },
  {
   "cell_type": "markdown",
   "metadata": {},
   "source": [
    "They seem to be primarily medical products"
   ]
  },
  {
   "cell_type": "code",
   "execution_count": null,
   "metadata": {},
   "outputs": [],
   "source": [
    "products.stage.value_counts()"
   ]
  },
  {
   "cell_type": "code",
   "execution_count": null,
   "metadata": {},
   "outputs": [],
   "source": [
    "products.type.value_counts()"
   ]
  },
  {
   "cell_type": "markdown",
   "metadata": {},
   "source": [
    "Yes - this is clearly a medical database. We might use it for our two missions given their health focus"
   ]
  },
  {
   "cell_type": "markdown",
   "metadata": {},
   "source": [
    "#### Intellectual Property"
   ]
  },
  {
   "cell_type": "code",
   "execution_count": null,
   "metadata": {},
   "outputs": [],
   "source": [
    "ip = my_data['intellectualproperties']\n",
    "\n",
    "ip.head()"
   ]
  },
  {
   "cell_type": "code",
   "execution_count": null,
   "metadata": {},
   "outputs": [],
   "source": [
    "ip.shape"
   ]
  },
  {
   "cell_type": "code",
   "execution_count": null,
   "metadata": {},
   "outputs": [],
   "source": [
    "ip.protection.value_counts().plot.bar(color='blue',title='ip')"
   ]
  },
  {
   "cell_type": "markdown",
   "metadata": {},
   "source": [
    "Around 5000 patents and a bunch of random labels. We can use it perhaps to look at field maturity"
   ]
  },
  {
   "cell_type": "markdown",
   "metadata": {},
   "source": [
    "#### Technical products"
   ]
  },
  {
   "cell_type": "code",
   "execution_count": null,
   "metadata": {},
   "outputs": [],
   "source": [
    "technical = my_data['softwareandtechnicalproducts']\n",
    "\n",
    "technical.head()"
   ]
  },
  {
   "cell_type": "code",
   "execution_count": null,
   "metadata": {},
   "outputs": [],
   "source": [
    "technical.shape"
   ]
  },
  {
   "cell_type": "code",
   "execution_count": null,
   "metadata": {},
   "outputs": [],
   "source": [
    "technical['type'].value_counts().plot.bar(color='blue',title='Technical outputs')"
   ]
  },
  {
   "cell_type": "markdown",
   "metadata": {},
   "source": [
    "Perhaps we could create a 'practical output' dummy for the field...\n",
    "\n",
    "Or query the application databases with project names once we have identified them?"
   ]
  },
  {
   "cell_type": "code",
   "execution_count": null,
   "metadata": {},
   "outputs": [],
   "source": [
    "np.sum(['github' in x for x in technical.supportingUrl if pd.isnull(x)==False])"
   ]
  },
  {
   "cell_type": "markdown",
   "metadata": {},
   "source": [
    "2582 projects in GitHUb"
   ]
  },
  {
   "cell_type": "markdown",
   "metadata": {},
   "source": [
    "#### Spinouts"
   ]
  },
  {
   "cell_type": "code",
   "execution_count": null,
   "metadata": {},
   "outputs": [],
   "source": [
    "spinouts = my_data['spinouts']\n",
    "\n",
    "spinouts.head()"
   ]
  },
  {
   "cell_type": "code",
   "execution_count": null,
   "metadata": {},
   "outputs": [],
   "source": [
    "spinouts.yearEstablished.value_counts().loc[np.arange(2006,2020)].plot.bar(color='blue',title='spinout_year')"
   ]
  },
  {
   "cell_type": "markdown",
   "metadata": {},
   "source": [
    "#### Publications"
   ]
  },
  {
   "cell_type": "code",
   "execution_count": null,
   "metadata": {},
   "outputs": [],
   "source": [
    "pubs = my_data['publications']\n",
    "\n",
    "pubs.head()"
   ]
  },
  {
   "cell_type": "code",
   "execution_count": null,
   "metadata": {},
   "outputs": [],
   "source": [
    "#Get missing values for a random sample (10%) of the publications\n",
    "\n",
    "fig,ax = plt.subplots()\n",
    "\n",
    "pub_sample = pubs.loc[list(np.random.randint(0,len(pubs),70000)),:]\n",
    "\n",
    "missing_count(pub_sample,ax)\n"
   ]
  },
  {
   "cell_type": "markdown",
   "metadata": {},
   "source": [
    "80% have DOI"
   ]
  },
  {
   "cell_type": "code",
   "execution_count": null,
   "metadata": {},
   "outputs": [],
   "source": [
    "pubs.type.value_counts().plot.bar(color='blue',title='Type of publication')"
   ]
  },
  {
   "cell_type": "code",
   "execution_count": null,
   "metadata": {},
   "outputs": [],
   "source": [
    "pubs['year'] = pubs['datePublished'].apply(get_year)"
   ]
  },
  {
   "cell_type": "code",
   "execution_count": null,
   "metadata": {},
   "outputs": [],
   "source": [
    "pubs['year'].value_counts().loc[np.arange(2006,2020)].plot.bar(color='blue',title='publication years')"
   ]
  },
  {
   "cell_type": "code",
   "execution_count": null,
   "metadata": {},
   "outputs": [],
   "source": [
    "pubs['journalTitle'].value_counts()[:10]"
   ]
  },
  {
   "cell_type": "markdown",
   "metadata": {},
   "source": [
    "### Databases"
   ]
  },
  {
   "cell_type": "code",
   "execution_count": null,
   "metadata": {},
   "outputs": [],
   "source": [
    "my_data.keys()"
   ]
  },
  {
   "cell_type": "code",
   "execution_count": null,
   "metadata": {},
   "outputs": [],
   "source": [
    "databases = my_data['researchdatabaseandmodels']\n",
    "\n",
    "databases.shape"
   ]
  },
  {
   "cell_type": "code",
   "execution_count": null,
   "metadata": {},
   "outputs": [],
   "source": [
    "databases.head()"
   ]
  },
  {
   "cell_type": "code",
   "execution_count": null,
   "metadata": {},
   "outputs": [],
   "source": [
    "databases['type'].value_counts().plot.bar(color='blue')"
   ]
  },
  {
   "cell_type": "markdown",
   "metadata": {},
   "source": [
    "Mostly databases - yay"
   ]
  },
  {
   "cell_type": "code",
   "execution_count": null,
   "metadata": {},
   "outputs": [],
   "source": [
    "pd.crosstab(databases['yearFirstProvided'],databases['type']).plot.bar(stacked=True)"
   ]
  },
  {
   "cell_type": "markdown",
   "metadata": {},
   "source": [
    "### Discipline coverage check\n",
    "\n",
    "Here we run outputs vs projects to get who were the funders. We want to check how much cross-organisation coverage there is in the data\n",
    "\n",
    "We also identify projects that appear in different 'impact' databases"
   ]
  },
  {
   "cell_type": "code",
   "execution_count": null,
   "metadata": {},
   "outputs": [],
   "source": [
    "#Containers for the data\n",
    "impactful_projects= []\n",
    "\n",
    "impact_funders = [projects['leadFunder'].value_counts()]\n",
    "\n",
    "impact_names = ['prods','ip','tech','spin','pubs','databases']\n",
    "\n",
    "for name,data in zip(impact_names,[products,ip,technical,spinouts,pubs,databases]):\n",
    "    \n",
    "    #Merges outputs and projects via the product file\n",
    "    \n",
    "    merged = pd.merge(\n",
    "        pd.merge(data,link,left_on='id',right_on='id'),\n",
    "        projects,left_on='project_id',right_on='id')\n",
    "    \n",
    "    #number of times that a project appears in an output df\n",
    "    project_counts = merged['project_id'].value_counts()\n",
    "    project_counts.name = name\n",
    "    \n",
    "    #Put it with the featured projects\n",
    "    impactful_projects.append(project_counts)\n",
    "    \n",
    "    \n",
    "    #Funder impact by project\n",
    "    funder_freqs = merged['leadFunder'].value_counts()\n",
    "    funder_freqs.name = name\n",
    "    \n",
    "    #Merges with the outpi\n",
    "    impact_funders.append(funder_freqs)\n",
    "    "
   ]
  },
  {
   "cell_type": "code",
   "execution_count": null,
   "metadata": {},
   "outputs": [],
   "source": [
    "fig,ax = plt.subplots(figsize=(8,5))\n",
    "\n",
    "pd.concat(impact_funders,axis=1,sort=False).apply(lambda x: x/x.sum(),axis=0).T.plot.bar(stacked=True,ax=ax,width=0.8)\n",
    "\n",
    "ax.legend(bbox_to_anchor=(1,1))"
   ]
  },
  {
   "cell_type": "markdown",
   "metadata": {},
   "source": [
    "Some observations:\n",
    "* No output data for innovate UK\n",
    "* MRC over-represented in all outputs (not bad for the mission pilots)\n",
    "* STFC over-represented in publications(physics)"
   ]
  },
  {
   "cell_type": "code",
   "execution_count": null,
   "metadata": {},
   "outputs": [],
   "source": [
    "# And the impactful projects\n",
    "\n",
    "#Concatenate the previous outputs\n",
    "project_impacts = pd.concat(impactful_projects,axis=1,sort=True).fillna(0).reset_index(drop=False)"
   ]
  },
  {
   "cell_type": "code",
   "execution_count": null,
   "metadata": {},
   "outputs": [],
   "source": [
    "#Concatenate with the projects file\n",
    "\n",
    "projects_imp = pd.merge(projects_f_no_dupes,project_impacts,left_on='project_id',right_on='index',how='left')\n",
    "\n",
    "#projects_imp = pd.concat([projects_f.set_index('project_id'),project_impacts],axis=1)\n",
    "\n",
    "projects_imp.shape"
   ]
  },
  {
   "cell_type": "code",
   "execution_count": null,
   "metadata": {},
   "outputs": [],
   "source": [
    "len(set(projects_imp.project_id))"
   ]
  },
  {
   "cell_type": "markdown",
   "metadata": {},
   "source": [
    "Fillnas with 0s. \n",
    "Should drop innovate from follow-on analyses here given that they don't seem to be tracking the impact of their projects in the same way as research councils."
   ]
  },
  {
   "cell_type": "code",
   "execution_count": null,
   "metadata": {},
   "outputs": [],
   "source": [
    "projects_imp[impact_names] = projects_imp[impact_names].fillna(0)"
   ]
  },
  {
   "cell_type": "code",
   "execution_count": null,
   "metadata": {},
   "outputs": [],
   "source": [
    "import seaborn as sns"
   ]
  },
  {
   "cell_type": "code",
   "execution_count": null,
   "metadata": {},
   "outputs": [],
   "source": [
    "#What is the correlation between different types of outputs...and level of funding?\n",
    "\n",
    "projects_imp[impact_names+['amount']].corr()"
   ]
  },
  {
   "cell_type": "markdown",
   "metadata": {},
   "source": [
    "Lots of potential confounders here - types of projects, disciplines..."
   ]
  },
  {
   "cell_type": "markdown",
   "metadata": {},
   "source": [
    "#### Some observations for next steps\n",
    "\n",
    "* Analysis focusing on 2006-2018\n",
    "* We need to integrate the topic data (new link file)?\n",
    "* Analyses of TRL/output by field will need to consider differences between disciplines in their outlets. To which extent are the disciplines in a mission field more or less productive than their constituent fields?\n",
    "* ...\n",
    "\n"
   ]
  },
  {
   "cell_type": "markdown",
   "metadata": {},
   "source": [
    "## 2. Process data"
   ]
  },
  {
   "cell_type": "markdown",
   "metadata": {},
   "source": [
    "* Classify projects into disciplines.\n",
    "  * I need the project topics for this labelling\n",
    "* Any TRL tags would go in here"
   ]
  },
  {
   "cell_type": "markdown",
   "metadata": {},
   "source": [
    "Add research activities and topics to the projects data"
   ]
  },
  {
   "cell_type": "code",
   "execution_count": null,
   "metadata": {},
   "outputs": [],
   "source": [
    "projects_imp.set_index('project_id',inplace=True)"
   ]
  },
  {
   "cell_type": "code",
   "execution_count": null,
   "metadata": {},
   "outputs": [],
   "source": [
    "topic_lookup = link.loc[link['table_name']=='gtr_topic',:]\n",
    "\n",
    "#We simply group by projects and run the names vs the research activity and topic lookup\n",
    "\n",
    "#Group\n",
    "res_topics_by_project = topic_lookup.groupby('project_id')\n",
    "\n",
    "#Extract lookups\n",
    "activity_project_lookup,topic_project_lookup = [res_topics_by_project['id'].apply(\n",
    "    lambda x: [lookup[el] for el in [t for t in x] if el in lookup.keys()]).to_dict() for lookup in [res_activity_lookup,res_topic_lookup]]"
   ]
  },
  {
   "cell_type": "code",
   "execution_count": null,
   "metadata": {},
   "outputs": [],
   "source": [
    "#Add topics\n",
    "\n",
    "projects_imp['research_topics'],projects_imp['research_activities']= [[\n",
    "    lookup[x] if x in lookup.keys() else [] for x in projects_imp.index] for lookup in [\n",
    "    topic_project_lookup,activity_project_lookup]]"
   ]
  },
  {
   "cell_type": "code",
   "execution_count": null,
   "metadata": {},
   "outputs": [],
   "source": [
    "projects_imp['has_topic'],projects_imp['has_activities'] = [[len(x)>0 for x in projects_imp[var]] for var in \n",
    "                                                            ['research_topics','research_activities']]\n",
    "                                                            "
   ]
  },
  {
   "cell_type": "code",
   "execution_count": null,
   "metadata": {},
   "outputs": [],
   "source": [
    "pd.crosstab(projects_imp.loc[projects_imp.grantCategory=='Research Grant','year'],\n",
    "            projects_imp.loc[projects_imp.grantCategory=='Research Grant','has_topic'],normalize=0).plot.bar(\n",
    "    stacked=True,title='Share of Research Grants with subject data')\n"
   ]
  },
  {
   "cell_type": "markdown",
   "metadata": {},
   "source": [
    "Most projects have subjects"
   ]
  },
  {
   "cell_type": "code",
   "execution_count": null,
   "metadata": {},
   "outputs": [],
   "source": [
    "fig,ax = plt.subplots(figsize=(10,5),ncols=2,sharey=True)\n",
    "\n",
    "pd.crosstab(projects_imp['leadFunder'],projects_imp['has_topic'],normalize=0).plot.barh(stacked=True,ax=ax[0],legend=False)\n",
    "pd.crosstab(projects_imp['leadFunder'],projects_imp['has_activities'],normalize=0).plot.barh(stacked=True,ax=ax[1])"
   ]
  },
  {
   "cell_type": "markdown",
   "metadata": {},
   "source": [
    "Almost no topics in MRC - because they label their projects with activities.\n",
    "\n",
    "For now we will use an older dataset with better topic coverage for labelling (see notebook `02_jmg_discipline_modelling`)"
   ]
  },
  {
   "cell_type": "markdown",
   "metadata": {},
   "source": [
    "While exploring the data elsewhere I found that most of the labels are 'unclassified'. Let's check the incidence of this."
   ]
  },
  {
   "cell_type": "code",
   "execution_count": null,
   "metadata": {},
   "outputs": [],
   "source": [
    "#We look for unclassified labels in the research topics\n",
    "projects_imp['has_uncl'] = ['Unclassified' in top for top in projects_imp['research_topics']]\n",
    "\n",
    "pd.crosstab(projects_imp['year'],projects_imp['has_uncl'],normalize=0)[True].plot.bar(color='blue',figsize=(10,5),\n",
    "                                                                                     title='Label = Unclassified')"
   ]
  },
  {
   "cell_type": "code",
   "execution_count": null,
   "metadata": {},
   "outputs": [],
   "source": [
    "#What is the distribution of unclassified labels by funder\n",
    "\n",
    "pd.crosstab(projects_imp['leadFunder'],projects_imp['has_uncl'],normalize=0).plot.bar()"
   ]
  },
  {
   "cell_type": "code",
   "execution_count": null,
   "metadata": {},
   "outputs": [],
   "source": [
    "pd.crosstab(projects_imp['grantCategory'],projects_imp['has_uncl'],normalize=0).plot.bar()"
   ]
  },
  {
   "cell_type": "markdown",
   "metadata": {},
   "source": [
    "### Discipline classifier"
   ]
  },
  {
   "cell_type": "markdown",
   "metadata": {},
   "source": [
    "Save data to train the model in the `02_jmg`... notebook"
   ]
  },
  {
   "cell_type": "code",
   "execution_count": null,
   "metadata": {},
   "outputs": [],
   "source": [
    "gtr_for_pred = projects_imp.dropna(axis=0,subset=['abstractText'])\n",
    "\n",
    "gtr_for_pred.to_csv(f'../data/processed/{today_str}_gtr_for_prediction.csv',index_label=False)"
   ]
  },
  {
   "cell_type": "markdown",
   "metadata": {},
   "source": [
    "Load data after predicting"
   ]
  },
  {
   "cell_type": "code",
   "execution_count": null,
   "metadata": {},
   "outputs": [],
   "source": [
    "gtr_predicted = pd.read_csv('../data/processed/13_6_2019_gtr_labelled.csv',index_col=None,compression='zip').iloc[:,1:]\n",
    "\n",
    "gtr_predicted.columns"
   ]
  }
 ],
 "metadata": {
  "language_info": {
   "name": "python",
   "pygments_lexer": "ipython3"
  }
 },
 "nbformat": 4,
 "nbformat_minor": 2
}
