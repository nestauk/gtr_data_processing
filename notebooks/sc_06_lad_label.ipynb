{
 "cells": [
  {
   "cell_type": "markdown",
   "metadata": {},
   "source": [
    "# LAD geocoding\n",
    "\n",
    "Here we geocode GtR organisations at the LAD level"
   ]
  },
  {
   "cell_type": "markdown",
   "metadata": {},
   "source": [
    "## 0. Preamble"
   ]
  },
  {
   "cell_type": "code",
   "execution_count": null,
   "metadata": {},
   "outputs": [],
   "source": [
    "%run notebook_preamble.ipy"
   ]
  },
  {
   "cell_type": "code",
   "execution_count": null,
   "metadata": {},
   "outputs": [],
   "source": [
    "def flatten_list(a_list):\n",
    "    return([x for el in a_list for x in el])\n"
   ]
  },
  {
   "cell_type": "markdown",
   "metadata": {},
   "source": [
    "### Imports"
   ]
  },
  {
   "cell_type": "code",
   "execution_count": null,
   "metadata": {},
   "outputs": [],
   "source": [
    "#For geocoding into lads\n",
    "import geopandas as gp\n",
    "\n",
    "from shapely.geometry import Point"
   ]
  },
  {
   "cell_type": "markdown",
   "metadata": {},
   "source": [
    "### Lad shapefile"
   ]
  },
  {
   "cell_type": "code",
   "execution_count": null,
   "metadata": {},
   "outputs": [],
   "source": [
    "lad_shape = gp.read_file(\n",
    "    '/Users/jmateosgarcia/links/sc/data/aux/lad_shape/Local_Authority_Districts_December_2017_Full_Clipped_Boundaries_in_Great_Britain.shp')"
   ]
  },
  {
   "cell_type": "markdown",
   "metadata": {},
   "source": [
    "### Change the projection"
   ]
  },
  {
   "cell_type": "code",
   "execution_count": null,
   "metadata": {},
   "outputs": [],
   "source": [
    "lad_shape.to_crs(epsg=4326,inplace=True)"
   ]
  },
  {
   "cell_type": "markdown",
   "metadata": {},
   "source": [
    "### Lookups"
   ]
  },
  {
   "cell_type": "code",
   "execution_count": null,
   "metadata": {},
   "outputs": [],
   "source": [
    "scottish_lads = {'Aberdeen City',\n",
    " 'Aberdeenshire',\n",
    " 'Angus',\n",
    " 'Argyll and Bute',\n",
    " 'Clackmannanshire',\n",
    " 'Dumfries and Galloway',\n",
    " 'Dundee City',\n",
    " 'East Ayrshire',\n",
    " 'East Dunbartonshire',\n",
    " 'East Lothian',\n",
    " 'East Renfrewshire',\n",
    " 'Edinburgh, City of',\n",
    " 'Eilean Siar',\n",
    " 'Falkirk',\n",
    " 'Fife',\n",
    " 'Glasgow City',\n",
    " 'Highland',\n",
    " 'Inverclyde',\n",
    " 'Midlothian',\n",
    " 'Moray',\n",
    " 'North Ayrshire',\n",
    " 'North Lanarkshire',\n",
    " 'Orkney Islands',\n",
    " 'Perth and Kinross',\n",
    " 'Renfrewshire',\n",
    " 'Scottish Borders',\n",
    " 'Shetland Islands',\n",
    " 'South Ayrshire',\n",
    " 'South Lanarkshire',\n",
    " 'Stirling',\n",
    " 'West Dunbartonshire',\n",
    " 'West Lothian'}"
   ]
  },
  {
   "cell_type": "markdown",
   "metadata": {},
   "source": [
    "### Some renaming"
   ]
  },
  {
   "cell_type": "code",
   "execution_count": null,
   "metadata": {},
   "outputs": [],
   "source": [
    "rename_lads = {'E07000146': 'King`s Lynn and West Norfolk',\n",
    " 'E07000112': 'Shepway',\n",
    " 'W06000001': 'Anglesey',\n",
    " 'W06000014': 'The Vale of Glamorgan',\n",
    " 'W06000016': 'Rhondda, Cynon, Taff',\n",
    " 'S12000036': 'Edinburgh, City of',\n",
    " 'S12000013': 'Eilean Siar',\n",
    " '95AA': 'Antrim',\n",
    " '95BB': 'Ards',\n",
    " '95CC': 'Armagh',\n",
    " '95DD': 'Ballymena',\n",
    " '95EE': 'Ballymoney',\n",
    " '95FF': 'Banbridge',\n",
    " '95GG': 'Belfast',\n",
    " '95HH': 'Carrickfergus',\n",
    " '95II': 'Castlereagh',\n",
    " '95JJ': 'Coleraine',\n",
    " '95KK': 'Cookstown',\n",
    " '95LL': 'Craigavon',\n",
    " '95MM': 'Derry',\n",
    " '95NN': 'Down',\n",
    " '95OO': 'Dungannon',\n",
    " '95PP': 'Fermanagh',\n",
    " '95QQ': 'Larne',\n",
    " '95RR': 'Limavady',\n",
    " '95SS': 'Lisburn',\n",
    " '95TT': 'Magherafelt',\n",
    " '95UU': 'Moyle',\n",
    " '95VV': 'Newry and Mourne',\n",
    " '95WW': 'Newtownabbey',\n",
    " '95XX': 'North Down',\n",
    " '95YY': 'Omagh',\n",
    " '95ZZ': 'Strabane'}"
   ]
  },
  {
   "cell_type": "code",
   "execution_count": null,
   "metadata": {},
   "outputs": [],
   "source": [
    "lad_shape['lad_name'] = [rename_lads[x] if x in rename_lads.keys() else name for x,name in\n",
    "                        zip(lad_shape['lad17cd'],lad_shape['lad17nm'])]"
   ]
  },
  {
   "cell_type": "markdown",
   "metadata": {},
   "source": [
    "## 1. Load files and spatial join"
   ]
  },
  {
   "cell_type": "code",
   "execution_count": null,
   "metadata": {},
   "outputs": [],
   "source": [
    "gtr_dir = '../data/raw/gtr/2019-05-02/'\n",
    "\n",
    "orgs, orgs_locs = [pd.read_csv(gtr_dir+name) for name in ['/gtr_organisations.csv','/gtr_organisations_locations.csv']]"
   ]
  },
  {
   "cell_type": "code",
   "execution_count": null,
   "metadata": {},
   "outputs": [],
   "source": [
    "orgs_locs['coordinates'] = orgs_locs[['longitude','latitude']].apply(Point,axis=1)"
   ]
  },
  {
   "cell_type": "code",
   "execution_count": null,
   "metadata": {},
   "outputs": [],
   "source": [
    "org_locs = gp.GeoDataFrame(orgs_locs,geometry='coordinates')"
   ]
  },
  {
   "cell_type": "markdown",
   "metadata": {},
   "source": [
    "Spatial join (point in polygon)"
   ]
  },
  {
   "cell_type": "code",
   "execution_count": null,
   "metadata": {},
   "outputs": [],
   "source": [
    "lad_gtr = gp.sjoin(org_locs,lad_shape,op='within')"
   ]
  },
  {
   "cell_type": "code",
   "execution_count": null,
   "metadata": {},
   "outputs": [],
   "source": [
    "lad_gtr.lad_name.value_counts().head()"
   ]
  },
  {
   "cell_type": "code",
   "execution_count": null,
   "metadata": {},
   "outputs": [],
   "source": [
    "len(lad_gtr)"
   ]
  },
  {
   "cell_type": "code",
   "execution_count": null,
   "metadata": {},
   "outputs": [],
   "source": [
    "len(org_locs)"
   ]
  },
  {
   "cell_type": "code",
   "execution_count": null,
   "metadata": {},
   "outputs": [],
   "source": [
    "matched_ids = set(lad_gtr['id'])\n",
    "\n",
    "orgs_locs.loc[[x not in matched_ids for x in org_locs['id']]]['country_name'].value_counts().head()"
   ]
  },
  {
   "cell_type": "markdown",
   "metadata": {},
   "source": [
    "Most of the unmatched orgs have missing geographical information"
   ]
  },
  {
   "cell_type": "code",
   "execution_count": null,
   "metadata": {},
   "outputs": [],
   "source": [
    "#Create an org id - lad lookup\n",
    "org_lad_lookup = {x['id']:[x['lad17cd'],x['lad_name']] for n,x in lad_gtr.iterrows()}"
   ]
  },
  {
   "cell_type": "markdown",
   "metadata": {},
   "source": [
    "## Create dfs for matching\n",
    "\n",
    "I want a df where every row is a project. The columns represent:\n",
    "\n",
    "* The LAD of the lead organisation\n",
    "* The LADs of the participant organisations\n",
    "* Flags for whether the lead and participating organisations are Scottish or not"
   ]
  },
  {
   "cell_type": "code",
   "execution_count": null,
   "metadata": {},
   "outputs": [],
   "source": [
    "link = pd.read_csv('../data/raw/gtr/2019-05-02/gtr_link_table.csv')"
   ]
  },
  {
   "cell_type": "code",
   "execution_count": null,
   "metadata": {},
   "outputs": [],
   "source": [
    "org_link = link.loc[['_ORG' in x for x in link['rel']]].reset_index(drop=False)"
   ]
  },
  {
   "cell_type": "code",
   "execution_count": null,
   "metadata": {},
   "outputs": [],
   "source": [
    "org_link.columns"
   ]
  },
  {
   "cell_type": "code",
   "execution_count": null,
   "metadata": {},
   "outputs": [],
   "source": [
    "org_link_grouped = org_link.groupby(['project_id','rel'])['id'].apply(lambda x: list(set(x))).reset_index(drop=False)"
   ]
  },
  {
   "cell_type": "code",
   "execution_count": null,
   "metadata": {},
   "outputs": [],
   "source": [
    "org_link_grouped_wide = pd.pivot_table(org_link_grouped,index='project_id',columns='rel',values='id',aggfunc=lambda x: list(x)[0])"
   ]
  },
  {
   "cell_type": "markdown",
   "metadata": {},
   "source": [
    "#### Run the lookup - we need some nested loops to deal with missing values and missing orgs"
   ]
  },
  {
   "cell_type": "code",
   "execution_count": null,
   "metadata": {},
   "outputs": [],
   "source": [
    "def lad_allocator(var_name,df):\n",
    "    '''\n",
    "    Looks up the lad code and name of organisations participating in a project\n",
    "    '''\n",
    "    \n",
    "    df[f'{var_name.lower()}_lad_code'],df[f'{var_name.lower()}_lad_name'] = [\n",
    "    [[] if type(x)==float else [org_lad_lookup[el][n] for el in x if el in org_lad_lookup.keys()] for x in df[f'{var_name}_ORG']] for\n",
    "    n in [0,1]]\n",
    "    \n",
    "    return(df)\n",
    "    \n",
    "    "
   ]
  },
  {
   "cell_type": "markdown",
   "metadata": {},
   "source": [
    "Each of these returns a geolabelled dataset"
   ]
  },
  {
   "cell_type": "code",
   "execution_count": null,
   "metadata": {},
   "outputs": [],
   "source": [
    "org_geo = lad_allocator('LEAD',org_link_grouped_wide)\n",
    "org_geo = lad_allocator('PARTICIPANT',org_link_grouped_wide)\n",
    "org_geo = lad_allocator('PP',org_link_grouped_wide)\n",
    "org_geo = lad_allocator('COLLAB',org_link_grouped_wide)\n",
    "org_geo = lad_allocator('FELLOW',org_link_grouped_wide)"
   ]
  },
  {
   "cell_type": "markdown",
   "metadata": {},
   "source": [
    "We group all the organisation geo data, and all the involved (all except the lead) in two lists"
   ]
  },
  {
   "cell_type": "code",
   "execution_count": null,
   "metadata": {},
   "outputs": [],
   "source": [
    "org_geo['all_lad_code'],org_geo['all_lad_name'] = [[flatten_list([row[name+f'_lad_{var}'] for name in ['lead','participant','pp','collab','fellow']]) for\n",
    "                                                             n, row in org_geo.iterrows()] for var in ['code','name']]\n",
    "\n",
    "\n",
    "org_geo['involved_lad_code'],org_geo['involved_lad_name'] = [[flatten_list([row[name+f'_lad_{var}'] for name in ['participant','pp','collab','fellow']]) for\n",
    "                                                             n, row in org_geo.iterrows()] for var in ['code','name']]"
   ]
  },
  {
   "cell_type": "code",
   "execution_count": null,
   "metadata": {},
   "outputs": [],
   "source": [
    "org_geo.to_csv(f'../data/temp_scotland/{today_str}_gtr_org_lad_labelled.csv',compression='zip')"
   ]
  },
  {
   "cell_type": "markdown",
   "metadata": {},
   "source": [
    "## Merge with the combined df"
   ]
  },
  {
   "cell_type": "code",
   "execution_count": null,
   "metadata": {},
   "outputs": [],
   "source": [
    "df = pd.read_csv('../data/processed/9_5_2019_combined_gtr_projects.csv',compression='zip')\n",
    "df = df[[x for x in df.columns if 'Unnamed' not in x]]"
   ]
  },
  {
   "cell_type": "code",
   "execution_count": null,
   "metadata": {},
   "outputs": [],
   "source": [
    "df_w_geo = pd.merge(df,org_geo,left_on='project_id',right_on='project_id')"
   ]
  },
  {
   "cell_type": "code",
   "execution_count": null,
   "metadata": {},
   "outputs": [],
   "source": [
    "len(df)-len(df_w_geo)"
   ]
  },
  {
   "cell_type": "code",
   "execution_count": null,
   "metadata": {},
   "outputs": [],
   "source": [
    "matched_ids = set(df_w_geo.project_id)\n",
    "\n",
    "unmatched = df.loc[[x not in matched_ids for x in df['project_id']]]"
   ]
  },
  {
   "cell_type": "code",
   "execution_count": null,
   "metadata": {},
   "outputs": [],
   "source": [
    "unmatched_ids = set(unmatched['project_id'])"
   ]
  },
  {
   "cell_type": "code",
   "execution_count": null,
   "metadata": {},
   "outputs": [],
   "source": [
    "link.loc[[x in unmatched_ids for x in link['project_id']]]['rel'].value_counts()"
   ]
  },
  {
   "cell_type": "markdown",
   "metadata": {},
   "source": [
    "No organisation data for the unmatched ones! \n",
    "\n",
    "**Todo** check with Joel and Russ about this"
   ]
  },
  {
   "cell_type": "code",
   "execution_count": null,
   "metadata": {},
   "outputs": [],
   "source": [
    "#df_w_geo_w_lead = df_w_geo.dropna(axis=0,subset=['lead_lad_name'])"
   ]
  },
  {
   "cell_type": "code",
   "execution_count": null,
   "metadata": {},
   "outputs": [],
   "source": [
    "df_w_geo['lead_scot'],df_w_geo['inv_scot'] = [[any(el in scottish_lads for el in x) for x in df_w_geo[var]] for var in ['lead_lad_name','involved_lad_name']]"
   ]
  },
  {
   "cell_type": "code",
   "execution_count": null,
   "metadata": {},
   "outputs": [],
   "source": [
    "df_w_geo['inv_scot_n'] = [np.sum([el in scottish_lads for el in x]) for x in df_w_geo['all_lad_name']]"
   ]
  },
  {
   "cell_type": "code",
   "execution_count": null,
   "metadata": {},
   "outputs": [],
   "source": [
    "df_w_geo.to_csv(f'../data/temp_scotland/{today_str}_gtr_projects_geo_labelled.csv',compression='zip')"
   ]
  },
  {
   "cell_type": "code",
   "execution_count": null,
   "metadata": {},
   "outputs": [],
   "source": [
    "pd.Series(flatten_list(df_w_geo['lead_lad_name'])).value_counts()"
   ]
  },
  {
   "cell_type": "code",
   "execution_count": null,
   "metadata": {},
   "outputs": [],
   "source": []
  },
  {
   "cell_type": "code",
   "execution_count": null,
   "metadata": {},
   "outputs": [],
   "source": [
    "pd.merge(org_link,lad_gtr,left_on='id',right_on='id')['lad17nm'].value_counts()"
   ]
  },
  {
   "cell_type": "code",
   "execution_count": null,
   "metadata": {},
   "outputs": [],
   "source": [
    "la = pd.merge(orgs,lad_gtr,left_on='id',right_on='id')"
   ]
  },
  {
   "cell_type": "code",
   "execution_count": null,
   "metadata": {},
   "outputs": [],
   "source": [
    "cam = set(la.loc[la.name=='University of Cambridge']['id'])"
   ]
  },
  {
   "cell_type": "code",
   "execution_count": null,
   "metadata": {},
   "outputs": [],
   "source": [
    "la2 = link.loc[[x in cam for x in link['id']]]"
   ]
  },
  {
   "cell_type": "code",
   "execution_count": null,
   "metadata": {},
   "outputs": [],
   "source": [
    "cam"
   ]
  },
  {
   "cell_type": "code",
   "execution_count": null,
   "metadata": {},
   "outputs": [],
   "source": [
    "cam2 = la.loc[la.name=='Cambridge University']['id']"
   ]
  },
  {
   "cell_type": "code",
   "execution_count": null,
   "metadata": {},
   "outputs": [],
   "source": []
  },
  {
   "cell_type": "code",
   "execution_count": null,
   "metadata": {},
   "outputs": [],
   "source": [
    "for c in sorted(la.loc[la.lad17nm=='Cambridge']['name']):\n",
    "    print(c)\n",
    "    print('\\n')"
   ]
  },
  {
   "cell_type": "code",
   "execution_count": null,
   "metadata": {},
   "outputs": [],
   "source": []
  }
 ],
 "metadata": {
  "language_info": {
   "name": "python",
   "pygments_lexer": "ipython3"
  }
 },
 "nbformat": 4,
 "nbformat_minor": 2
}
